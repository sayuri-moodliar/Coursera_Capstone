{
 "cells": [
  {
   "cell_type": "markdown",
   "metadata": {
    "collapsed": true
   },
   "source": [
    "# The Battle of the Neighborhoods"
   ]
  },
  {
   "cell_type": "markdown",
   "metadata": {},
   "source": [
    "## A comparison of the northern and southern suburbs of Cape Town using Foursquare API"
   ]
  },
  {
   "cell_type": "markdown",
   "metadata": {},
   "source": [
    "### 1. Problem and background"
   ]
  },
  {
   "cell_type": "markdown",
   "metadata": {},
   "source": [
    "#### Introduction:\n",
    "\n",
    "Jane has been offered a senior position at an organisation in Cape Town. \n",
    "She and her family currently live in Johannesburg. Jane's husband is a freelance writer who does most of his work while sitting at coffee shops and observing people and events. They have two daughters: the older one is 18 and will be starting university next year; the younger one is in her final year of middle school and wants to specialise in art and graphic design when she goes to college. The family has two large dogs.\n",
    "Jane's new employer has offices in various locations in the city and surrounding suburbs, and she has a choice of which office will be her primary location for work.\n",
    "\n",
    "\n",
    "#### Business problem:\n",
    "\n",
    "Jane has to choose where to stay in Cape Town. Her initial research indicates that the city centre has only apartments (not houses) and that property is prohibitively expensive close to the city. Most people with families live in the Northern Suburbs or Southern Suburbs surrounding the city.\n",
    "Jane and her family have to choose which part of the city would be best to live in.\n",
    "Jane's employer has consulted us to help Jane compare location data of suburbs in the city."
   ]
  },
  {
   "cell_type": "markdown",
   "metadata": {},
   "source": [
    "### 2. Data"
   ]
  },
  {
   "cell_type": "markdown",
   "metadata": {},
   "source": [
    "#### Which datasets will be used?\n",
    "Foursquare location data\n",
    "Property price data from Property24\n",
    "\n",
    "#### What data will be used?\n",
    "The following information will be compared to help Jane choose where to live:\n",
    "\n",
    "(i) Length of daily commute: A comparison will be conducted of the relative proximity of home locations to:-\n",
    "- The closest office of Jane's employer\n",
    "- The university\n",
    "- The closest high school or college offering an art and graphic design curriculum\n",
    "\n",
    "(ii) A comparison of amenities in the potential home locations:\n",
    "- Number of coffee shops in the area, together with their ratings and availability of free WiFi\n",
    "- Public transport to school and university\n",
    "\n",
    "(iii) A comparison of house prices in the area\n",
    "\n",
    "(vi) Reviews by other residents or visitors of the amenities and venues listed above\n"
   ]
  },
  {
   "cell_type": "code",
   "execution_count": null,
   "metadata": {},
   "outputs": [],
   "source": []
  }
 ],
 "metadata": {
  "kernelspec": {
   "display_name": "Python 3.6",
   "language": "python",
   "name": "python3"
  },
  "language_info": {
   "codemirror_mode": {
    "name": "ipython",
    "version": 3
   },
   "file_extension": ".py",
   "mimetype": "text/x-python",
   "name": "python",
   "nbconvert_exporter": "python",
   "pygments_lexer": "ipython3",
   "version": "3.6.9"
  }
 },
 "nbformat": 4,
 "nbformat_minor": 1
}
